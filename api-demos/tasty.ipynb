{
 "cells": [
  {
   "cell_type": "code",
   "execution_count": 56,
   "id": "7cf54b48",
   "metadata": {},
   "outputs": [],
   "source": [
    "#SOME IMPORTANT VARIABLES\n",
    "\n",
    "from dotenv import load_dotenv\n",
    "import os\n",
    "\n",
    "\n",
    "load_dotenv()\n",
    "\n",
    "\n",
    "#TOGGLE FOR LIVE OR SANDBOX\n",
    "is_live = False\n",
    "\n",
    "SANDBOX_API_ENDPOINT = 'https://api.cert.tastyworks.com'\n",
    "PROD_API_ENDPOINT = 'https://api.tastyworks.com'\n",
    "\n",
    "CUR_ENDPOINT = PROD_API_ENDPOINT if is_live else SANDBOX_API_ENDPOINT\n",
    "CUR_ACCOUNT_NUMBER = os.getenv('TASTY_ACCOUNT_NUMBER_LIVE') if is_live else os.getenv('TASTY_ACCOUNT_NUMBER_SANDBOX')\n"
   ]
  },
  {
   "cell_type": "markdown",
   "id": "9c943fb1",
   "metadata": {},
   "source": [
    "## Auth"
   ]
  },
  {
   "cell_type": "code",
   "execution_count": 57,
   "id": "f1fe357d",
   "metadata": {},
   "outputs": [
    {
     "name": "stdout",
     "output_type": "stream",
     "text": [
      "201\n",
      "{'data': {'user': {'email': 'mason24h@gmail.com', 'external-id': 'U1ae64f8a-3a31-478d-bb63-f7d89a5a12e8', 'is-confirmed': False, 'username': 'masonhgn'}, 'remember-token': 'NFGQq5en_e516-x9jdJQ57H_HJYTuT9N5YbLIR-1FevmHdfEUWhUQg', 'session-expiration': '2025-05-29T20:24:19.937Z', 'session-token': 'yOYKvM01_GKlY6fMelfVohS8LBJbNqUpZYIHCakWg19YCvIdOLz1mw+C'}, 'context': '/sessions'}\n"
     ]
    }
   ],
   "source": [
    "import requests\n",
    "\n",
    "\n",
    "\n",
    "\n",
    "payload = {\n",
    "    \"login\": os.getenv(\"TASTY_API_USERNAME\"),\n",
    "    \"password\": os.getenv(\"TASTY_API_PASSWORD\"),\n",
    "    \"remember-me\": True\n",
    "}\n",
    "\n",
    "headers = {\n",
    "    \"Content-Type\": \"application/json\"\n",
    "}\n",
    "\n",
    "response = requests.post(CUR_ENDPOINT + '/sessions', json=payload, headers=headers)\n",
    "print(response.status_code)\n",
    "print(response.json())\n",
    "\n",
    "SESSION_TOKEN = response.json()['data']['session-token'].strip()\n",
    "\n",
    "\n",
    "headers = {\n",
    "    \"Authorization\": SESSION_TOKEN, \n",
    "    \"Content-Type\": \"application/json\",\n",
    "    \"User-Agent\": \"my-client/1.0\"\n",
    "}\n",
    "\n",
    "\n"
   ]
  },
  {
   "cell_type": "markdown",
   "id": "8d75eaf8",
   "metadata": {},
   "source": [
    "## Get Account Status"
   ]
  },
  {
   "cell_type": "code",
   "execution_count": 58,
   "id": "fd6d371a",
   "metadata": {},
   "outputs": [
    {
     "name": "stdout",
     "output_type": "stream",
     "text": [
      "{'Authorization': 'yOYKvM01_GKlY6fMelfVohS8LBJbNqUpZYIHCakWg19YCvIdOLz1mw+C', 'Content-Type': 'application/json', 'User-Agent': 'my-client/1.0'}\n",
      "200\n",
      "{'data': {'id': 14433, 'account-number': '5WX90104', 'are-deep-itm-carry-options-enabled': False, 'are-far-otm-net-options-restricted': True, 'are-options-values-restricted-to-nlv': False, 'are-single-tick-expiring-hedges-ignored': True, 'enhanced-fraud-safeguards-enabled-at': '2025-05-28T20:18:11.701+00:00', 'equities-margin-calculation-type': 'Reg T', 'fee-schedule-name': 'default', 'futures-margin-rate-multiplier': '0.0', 'has-intraday-equities-margin': False, 'is-aggregated-at-clearing': False, 'is-closed': False, 'is-closing-only': False, 'is-cryptocurrency-closing-only': False, 'is-cryptocurrency-enabled': False, 'is-equity-offering-closing-only': False, 'is-equity-offering-enabled': False, 'is-frozen': False, 'is-full-equity-margin-required': False, 'is-futures-closing-only': False, 'is-futures-enabled': True, 'is-futures-intra-day-enabled': False, 'is-in-day-trade-equity-maintenance-call': False, 'is-in-margin-call': False, 'is-pattern-day-trader': False, 'is-portfolio-margin-enabled': False, 'is-risk-reducing-only': False, 'is-roll-the-day-forward-enabled': True, 'is-small-notional-futures-intra-day-enabled': False, 'options-level': 'No Restrictions', 'short-calls-enabled': False, 'small-notional-futures-margin-rate-multiplier': '0.0', 'updated-at': '2025-05-28T20:18:11.701+00:00'}, 'context': '/accounts/5WX90104/trading-status'}\n"
     ]
    }
   ],
   "source": [
    "\n",
    "print(headers)\n",
    "response = requests.get(CUR_ENDPOINT + f\"/accounts/{CUR_ACCOUNT_NUMBER}/trading-status\",headers=headers)\n",
    "\n",
    "print(response.status_code)\n",
    "print(response.json())"
   ]
  }
 ],
 "metadata": {
  "kernelspec": {
   "display_name": ".venv",
   "language": "python",
   "name": "python3"
  },
  "language_info": {
   "codemirror_mode": {
    "name": "ipython",
    "version": 3
   },
   "file_extension": ".py",
   "mimetype": "text/x-python",
   "name": "python",
   "nbconvert_exporter": "python",
   "pygments_lexer": "ipython3",
   "version": "3.13.1"
  }
 },
 "nbformat": 4,
 "nbformat_minor": 5
}
