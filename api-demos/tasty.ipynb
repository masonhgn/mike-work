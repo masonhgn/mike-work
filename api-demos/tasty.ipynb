{
 "cells": [
  {
   "cell_type": "code",
   "execution_count": null,
   "id": "7cf54b48",
   "metadata": {},
   "outputs": [],
   "source": [
    "#SOME IMPORTANT VARIABLES\n",
    "\n",
    "from dotenv import load_dotenv\n",
    "import os\n",
    "\n",
    "\n",
    "load_dotenv()\n",
    "\n",
    "\n",
    "#TOGGLE FOR LIVE OR SANDBOX\n",
    "is_live = False\n",
    "\n",
    "SANDBOX_API_ENDPOINT = 'https://api.cert.tastyworks.com'\n",
    "PROD_API_ENDPOINT = 'https://api.tastyworks.com'\n",
    "\n",
    "CUR_ENDPOINT = PROD_API_ENDPOINT if is_live else SANDBOX_API_ENDPOINT\n",
    "CUR_ACCOUNT_NUMBER = os.getenv('TASTY_ACCOUNT_NUMBER_LIVE') if is_live else os.getenv('TASTY_ACCOUNT_NUMBER_SANDBOX')\n"
   ]
  },
  {
   "cell_type": "markdown",
   "id": "9c943fb1",
   "metadata": {},
   "source": [
    "## Auth"
   ]
  },
  {
   "cell_type": "code",
   "execution_count": null,
   "id": "f1fe357d",
   "metadata": {},
   "outputs": [],
   "source": [
    "import requests\n",
    "\n",
    "\n",
    "\n",
    "\n",
    "payload = {\n",
    "    \"login\": os.getenv(\"TASTY_API_USERNAME\"),\n",
    "    \"password\": os.getenv(\"TASTY_API_PASSWORD\"),\n",
    "    \"remember-me\": True\n",
    "}\n",
    "\n",
    "headers = {\n",
    "    \"Content-Type\": \"application/json\"\n",
    "}\n",
    "\n",
    "response = requests.post(CUR_ENDPOINT + '/sessions', json=payload, headers=headers)\n",
    "print(response.status_code)\n",
    "print(response.json())\n",
    "\n",
    "SESSION_TOKEN = response.json()['data']['session-token'].strip()\n",
    "\n",
    "\n",
    "headers = {\n",
    "    \"Authorization\": SESSION_TOKEN, \n",
    "    \"Content-Type\": \"application/json\",\n",
    "    \"User-Agent\": \"my-client/1.0\"\n",
    "}\n",
    "\n",
    "\n"
   ]
  },
  {
   "cell_type": "markdown",
   "id": "8d75eaf8",
   "metadata": {},
   "source": [
    "## Get Account Status"
   ]
  },
  {
   "cell_type": "code",
   "execution_count": null,
   "id": "fd6d371a",
   "metadata": {},
   "outputs": [],
   "source": [
    "\n",
    "print(headers)\n",
    "response = requests.get(CUR_ENDPOINT + f\"/accounts/{CUR_ACCOUNT_NUMBER}/trading-status\",headers=headers)\n",
    "\n",
    "print(response.status_code)\n",
    "print(response.json())"
   ]
  }
 ],
 "metadata": {
  "kernelspec": {
   "display_name": ".venv",
   "language": "python",
   "name": "python3"
  },
  "language_info": {
   "codemirror_mode": {
    "name": "ipython",
    "version": 3
   },
   "file_extension": ".py",
   "mimetype": "text/x-python",
   "name": "python",
   "nbconvert_exporter": "python",
   "pygments_lexer": "ipython3",
   "version": "3.13.1"
  }
 },
 "nbformat": 4,
 "nbformat_minor": 5
}
