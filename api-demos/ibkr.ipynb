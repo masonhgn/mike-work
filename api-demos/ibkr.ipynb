{
 "cells": [
  {
   "cell_type": "markdown",
   "id": "f175afc9",
   "metadata": {},
   "source": [
    "# IBKR API Demo\n",
    "\n",
    "https://www.interactivebrokers.com/campus/ibkr-api-page/cpapi-v1/#gw-step-one\n",
    "\n",
    "First, we need to set up a connection to the IBKR API Gateway.\n",
    "\n",
    "Do this by running the following command in the **clientportal.gw** directory:\n",
    "\n",
    "\n",
    "`bin/run.sh root/conf.yaml`\n",
    "\n",
    "\n",
    "Then go to **localhost:5000** on a browser and login with username and password.\n",
    "\n",
    "(If you are signing in with your paper account, be sure to use the unique Paper Trading username. This can be found by logging in to the Client Portal)\n",
    "\n"
   ]
  },
  {
   "cell_type": "code",
   "execution_count": null,
   "id": "4f33ce27",
   "metadata": {
    "vscode": {
     "languageId": "plaintext"
    }
   },
   "outputs": [],
   "source": []
  }
 ],
 "metadata": {
  "language_info": {
   "name": "python"
  }
 },
 "nbformat": 4,
 "nbformat_minor": 5
}
